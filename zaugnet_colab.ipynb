{
  "cells": [
    {
      "cell_type": "markdown",
      "metadata": {
        "id": "0aUa3Tn-qYaU"
      },
      "source": [
        "# **ZAugNet Colab Notebook**\n",
        "\n",
        "This Colab Notebook is related to the paper [Self-Supervised Z-Slice Augmentation for 3D Bio-Imaging via Knowledge Distillation](https://arxiv.org/abs/2503.04843).\n",
        "\n",
        "It provides an intuitive interface for training and/or testing ZAugNet and ZAugNet+, eliminating the need to interact with the code directly.\n",
        "\n"
      ]
    },
    {
      "cell_type": "markdown",
      "metadata": {
        "id": "N0hFnUuaqVq3"
      },
      "source": [
        "### **0 - Data preparation**"
      ]
    },
    {
      "cell_type": "markdown",
      "metadata": {
        "id": "LShorO-r2IHg"
      },
      "source": [
        "* In the Colab settings, check \"Runtime > Change runtime type\"\" and select \"T4GPU\".\n",
        "\n",
        "* Run the following blocks to connect your Google Drive and create a new folder where to download ZAugNet:"
      ]
    },
    {
      "cell_type": "code",
      "execution_count": 1,
      "metadata": {
        "id": "xla_il-Y3F3m"
      },
      "outputs": [],
      "source": [
        "import os\n",
        "import shutil\n",
        "from glob import glob\n",
        "os.chdir('/content/')"
      ]
    },
    {
      "cell_type": "code",
      "execution_count": null,
      "metadata": {
        "id": "vMasTfae-CBs"
      },
      "outputs": [],
      "source": [
        "# Mount your Google Drive\n",
        "from google.colab import drive\n",
        "drive.mount('/content/gdrive', force_remount=True)"
      ]
    },
    {
      "cell_type": "markdown",
      "metadata": {
        "id": "6X_xvrT2sF8t"
      },
      "source": [
        "### **1 - Download ZAugNet and install the requirements**\n"
      ]
    },
    {
      "cell_type": "markdown",
      "metadata": {
        "id": "F5fBoJVbitFC"
      },
      "source": [
        "* Download ZAugNet from GitHub:"
      ]
    },
    {
      "cell_type": "code",
      "execution_count": null,
      "metadata": {
        "id": "5wsVUeAfimGr"
      },
      "outputs": [],
      "source": [
        "!git clone https://github.com/VirtualEmbryo/ZAugNet.git"
      ]
    },
    {
      "cell_type": "markdown",
      "metadata": {
        "id": "WdKYdfzX2nge"
      },
      "source": [
        "* **(Optional)** Download train/test data images and pre-trained models:"
      ]
    },
    {
      "cell_type": "code",
      "execution_count": null,
      "metadata": {
        "id": "osmjfhvc23lq"
      },
      "outputs": [],
      "source": [
        "# Download data and pre-trained models from Zenodo\n",
        "!curl \"https://zenodo.org/records/14961732/files/zenodo.zip?download=1\" --output /content/ZAugNet/zaugnet_data_and_models.zip\n",
        "\n",
        "# Unzip the folder\n",
        "import shutil\n",
        "shutil.unpack_archive(\"/content/ZAugNet/zaugnet_data_and_models.zip\", \"/content/ZAugNet/zaugnet_data_and_models\")\n",
        "\n",
        "# Create data folder and move files\n",
        "!mkdir /content/ZAugNet/data\n",
        "!mv /content/ZAugNet/zaugnet_data_and_models/zenodo/ascidians /content/ZAugNet/data/ascidians\n",
        "!mv /content/ZAugNet/zaugnet_data_and_models/zenodo/filaments /content/ZAugNet/data/filaments\n",
        "!mv /content/ZAugNet/zaugnet_data_and_models/zenodo/humans /content/ZAugNet/data/humans\n",
        "!mv /content/ZAugNet/zaugnet_data_and_models/zenodo/nuclei /content/ZAugNet/data/nuclei\n",
        "!mv /content/ZAugNet/zaugnet_data_and_models/zenodo/results /content/ZAugNet/results"
      ]
    },
    {
      "cell_type": "markdown",
      "metadata": {
        "id": "_EpFaY09gDzk"
      },
      "source": [
        "* Install the requirements:"
      ]
    },
    {
      "cell_type": "code",
      "execution_count": null,
      "metadata": {
        "id": "JA-2QWUFqDpq"
      },
      "outputs": [],
      "source": [
        "os.chdir('./ZAugNet')\n",
        "%pip install -r requirements.txt"
      ]
    },
    {
      "cell_type": "markdown",
      "metadata": {
        "id": "DcTSFrqDfN84"
      },
      "source": [
        "* Insert paths to train and test folders.\n",
        "\n",
        "You can upload your <code>.tif</code> images on Google Drive and use the path <code>./gdrive/MyDrive/path_folder</code>.\n",
        "\n",
        "Or you can use our data and use the path <code>/content/ZAugNet/data/ascidiands</code> for example."
      ]
    },
    {
      "cell_type": "code",
      "execution_count": null,
      "metadata": {
        "id": "Oo0i4L3-Jinx"
      },
      "outputs": [],
      "source": [
        "os.chdir('/content')\n",
        "# Put the adresse of the tif files for training and test data in google drive\n",
        "train_path = \"<path_train_folder>\" #@param {type:\"string\"}\n",
        "test_path = \"<path_test_folder>\" #@param {type:\"string\"}\n",
        "\n",
        "# Change the directory and create necessary folders\n",
        "if not os.path.exists('./ZAugNet/data/train') :\n",
        "  shutil.copytree(train_path, './ZAugNet/data/train/')\n",
        "if not os.path.exists('./ZAugNet/data/test') :\n",
        "  shutil.copytree(test_path, './ZAugNet/data/test/')\n",
        "\n",
        "os.chdir('./ZAugNet')"
      ]
    },
    {
      "cell_type": "markdown",
      "metadata": {
        "id": "jJUi5ypm3Wee"
      },
      "source": [
        "### **2 - Change ZAugNet settings**"
      ]
    },
    {
      "cell_type": "markdown",
      "metadata": {
        "id": "4Xrtjv-FtY0T"
      },
      "source": [
        "* If needed, you can use the following block to adjust the hyper-parameters:"
      ]
    },
    {
      "cell_type": "code",
      "execution_count": null,
      "metadata": {
        "cellView": "form",
        "id": "2Ma2fp0itxRx"
      },
      "outputs": [],
      "source": [
        "from train import train\n",
        "from config import config\n",
        "\n",
        "cfg = config()\n",
        "\n",
        "# Parameters on the model that you want to train or inference\n",
        "cfg.model_name = 'zaugnet' #@param [\"zaugnet\", \"zaugnet+\"]\n",
        "\n",
        "# If you want to use our pre-trained models, select one of the following options: \"ascidians\", \"nuclei\", \"filaments\", or \"humans\".\n",
        "#If you prefer to train your own custom model, select \"other\".\n",
        "cfg.dataset = \"ascidians\" #@param [\"ascidians\", \"nuclei\", \"filaments\", \"humans\", \"other\"]\n",
        "\n",
        "#@markdown * #### *Change these parameters **only if** you want to **train** a new model:*\n",
        "# Number of total epochs to run\n",
        "cfg.n_epochs = 10  #@param {type:\"number\"}\n",
        "# Mini-batch size for training\n",
        "cfg.batch_size = 32  #@param {type:\"number\"}\n",
        "# Learning rate\n",
        "cfg.lr = 1e-4  #@param {type:\"number\"}\n",
        "# Beta1 for Adam optimizer\n",
        "cfg.beta1 = 0.5 #@param {type:\"number\"}\n",
        "# Beta2 for Adam optimizer\n",
        "cfg.beta1 = 0.999 #@param {type:\"number\"}\n",
        "# Validation split proportion\n",
        "cfg.p_val = 0.1 #@param {type:\"number\"}\n",
        "# Number of discriminator updates per generator update\n",
        "cfg.n_critic = 5 #@param {type:\"number\"}\n",
        "# Weight for adversarial loss\n",
        "cfg.lambda_adv = 0.001 #@param {type:\"number\"}\n",
        "# Weight for gradient penalty\n",
        "cfg.lambda_gp = 10 #@param {type:\"number\"}\n",
        "# Maximum distance for triplet sampling (Only ZAugNet+)\n",
        "cfg.distance_triplets = 7 #@param {type:\"number\"}\n",
        "\n",
        "# @markdown * #### *Change these parameters for **training and inference**:*\n",
        "# Normalization method for input data\n",
        "cfg.normalization = 'min_max' #@param [\"min_max\", \"z_score\"]\n",
        "# Resizing strategy for input images\n",
        "cfg.resize_par = 'resize' #@param [\"resize\", \"crop\"]\n",
        "# Size of input images\n",
        "cfg.patch_size = 256 #@param {type:\"number\"}\n",
        "# Image number of bits: 8 bits or 16 bits\n",
        "cfg.image_bits = 8 #@param [8, 16]\n",
        "# Range for min-max normalization (if you data are 16bits put (2**16-1)*1.0)\n",
        "cfg.min_max = (0, (2**8 - 1)*1.0) if cfg.image_bits == 8 else  (0, (2**16 - 1)*1.0)\n",
        "# List of GPU device IDs to use for training (\"0\" for Colab)\n",
        "device_ids = \"0\" #@param {type:\"string\"}\n",
        "cfg.device_ids = [int(id.strip()) for id in device_ids.split(\",\")]"
      ]
    },
    {
      "cell_type": "markdown",
      "metadata": {
        "id": "nNv8Wwau0e8U"
      },
      "source": [
        "### **3 - Training**\n"
      ]
    },
    {
      "cell_type": "markdown",
      "metadata": {
        "id": "fya1gueN2MC6"
      },
      "source": [
        "* To train a new ZAugNet or ZAugNet+ model, execute the following block.\n",
        "\n",
        "  The trained model will be saved in <code>/content/ZAugNet/results/\\<dataset_name\\>/</code> as `.pt` file.\n",
        "\n"
      ]
    },
    {
      "cell_type": "markdown",
      "metadata": {
        "id": "wScHNig030vS"
      },
      "source": [
        "**N.B.** Training a new model may take some time.\n",
        "\n",
        "To prevent the Colab notebook from disconnecting, ensure you run the next two blocks together."
      ]
    },
    {
      "cell_type": "code",
      "execution_count": null,
      "metadata": {
        "id": "5DE5jC4v0kpd"
      },
      "outputs": [],
      "source": [
        "train(cfg)"
      ]
    },
    {
      "cell_type": "code",
      "execution_count": null,
      "metadata": {
        "id": "_b3PWRchAJ4S"
      },
      "outputs": [],
      "source": [
        "while True:pass"
      ]
    },
    {
      "cell_type": "markdown",
      "metadata": {
        "id": "LbnPD1QH2fk4"
      },
      "source": [
        "### **4 - Prediction**"
      ]
    },
    {
      "cell_type": "markdown",
      "metadata": {
        "id": "mpTpTnDx2csC"
      },
      "source": [
        "* To predict using a ZAugNet or ZAugNet+ model in the middle execute the following block.\n",
        "\n",
        "  The predicted images will be saved in <code>/content/ZAugNet/predictions/</code> as a `.tif` files."
      ]
    },
    {
      "cell_type": "code",
      "execution_count": null,
      "metadata": {
        "id": "CYhSficD10wz"
      },
      "outputs": [],
      "source": [
        "# Import the appropriate prediction module based on the selected model name\n",
        "from predict import predict\n",
        "predict(cfg)"
      ]
    },
    {
      "cell_type": "markdown",
      "metadata": {
        "id": "Ke4gQJtqdEFC"
      },
      "source": [
        "**N.B.** You can use ZAugNet+ to predict multiple z-slices at once between two consecutive original z-slices $I_0$ and $I_1$.\n",
        "\n",
        "Simply specify the desired final resolution below and execute the following block.\n",
        "\n",
        "<code>factor=2</code> means adding 2 equally spaced z-slices between $I_0$ and $I_1$."
      ]
    },
    {
      "cell_type": "code",
      "execution_count": null,
      "metadata": {
        "id": "RCvJe6iT3LyK"
      },
      "outputs": [],
      "source": [
        "if cfg.model_name == 'zaugnet+':\n",
        "  from predict import predict\n",
        "  # Multiply the number of z-slices by this factor\n",
        "  factor = 2  #@param {type:\"number\"}\n",
        "  cfg.factor = factor\n",
        "  # Call the prediction function with the options and the scaling factor\n",
        "  predict(cfg)\n",
        "else :\n",
        "  raise ValueError(\"You have to choose zaugnet+ for this block\")"
      ]
    },
    {
      "cell_type": "markdown",
      "metadata": {
        "id": "mWpUvSG_2Xqr"
      },
      "source": [
        "You can use ZAugNet+ to predict at a specefic distance between two consecutive original z-slices $I_0$ and $I_1$ using <code>DPM</code>"
      ]
    },
    {
      "cell_type": "code",
      "execution_count": null,
      "metadata": {
        "id": "I4dPpPCA_KN7"
      },
      "outputs": [],
      "source": [
        "if cfg.model_name == 'zaugnet+':\n",
        "  from predict import predict\n",
        "  # Multiply the number of z-slices by this factor\n",
        "  DPM = 0.5  #@param {type:\"number\"}\n",
        "  cfg.DPM = DPM\n",
        "  # Call the prediction function with the options and the DPM\n",
        "  predict(cfg)\n",
        "else :\n",
        "  raise ValueError(\"You have to choose zaugnet+ for this block\")"
      ]
    }
  ],
  "metadata": {
    "accelerator": "GPU",
    "colab": {
      "gpuType": "T4",
      "provenance": []
    },
    "kernelspec": {
      "display_name": "Python 3",
      "name": "python3"
    },
    "language_info": {
      "name": "python"
    }
  },
  "nbformat": 4,
  "nbformat_minor": 0
}
